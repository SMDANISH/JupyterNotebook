{
  "metadata": {
    "kernelspec": {
      "name": "python",
      "display_name": "Python (Pyodide)",
      "language": "python"
    },
    "language_info": {
      "codemirror_mode": {
        "name": "python",
        "version": 3
      },
      "file_extension": ".py",
      "mimetype": "text/x-python",
      "name": "python",
      "nbconvert_exporter": "python",
      "pygments_lexer": "ipython3",
      "version": "3.8"
    }
  },
  "nbformat_minor": 4,
  "nbformat": 4,
  "cells": [
    {
      "cell_type": "markdown",
      "source": "Assignment :  You will demonstrate your understanding of the data science methodology by applying it to a given problem. Pick one of the following topics to apply the data science methodology to:",
      "metadata": {}
    },
    {
      "cell_type": "markdown",
      "source": "1. Email\n2. Hospital\n3. Credit Card",
      "metadata": {}
    },
    {
      "cell_type": "markdown",
      "source": "You will have to play the role of the client as well as the data scientist to come up with a problem that is more specific but related to these topics.",
      "metadata": {}
    },
    {
      "cell_type": "markdown",
      "source": "Project Title : Analyzing response to Spam Email",
      "metadata": {}
    },
    {
      "cell_type": "markdown",
      "source": "**Abstract**",
      "metadata": {}
    },
    {
      "cell_type": "markdown",
      "source": " Almost 90 % of the email account holder face spam email issue and 45% of them are found to be dceited who responded.\nOrganisation requirement is to send those emails to spam folder and delete them in a week.  Organisation want data on who is responding to such email and who are more likely to click on such emails. Task is to predict whether the user will click/respond/reply on spam email.",
      "metadata": {}
    },
    {
      "cell_type": "markdown",
      "source": "##### Briefly explain how you would complete each of the following stages for the problem that you described in the Business Understanding stage, so that you are ultimately able to answer the question that you came up with.:\n",
      "metadata": {}
    },
    {
      "cell_type": "markdown",
      "source": "- Analytic Approach\n- Data Requirements\n- Data Collection\n- Data Understanding and Preparation\n- Modeling and Evaluation",
      "metadata": {}
    },
    {
      "cell_type": "markdown",
      "source": "***Stages Descriiption :",
      "metadata": {}
    },
    {
      "cell_type": "markdown",
      "source": "1. Analytic Approach: The problem requires a YES/NO answer so we will use a classification model. ",
      "metadata": {}
    },
    {
      "cell_type": "markdown",
      "source": "2. Data Requirements: To create a classification model, we will need features regarding email account holders. The features include account holder trends of checking and responding to an email, Internet usage, Browsing trends, categories of websites visit, gender, adult non adult, Occupations, locations, Source of Online income/jobs, types of jobs online if any, data descriptions if the user had responded to any other spam content in past.   ",
      "metadata": {}
    },
    {
      "cell_type": "markdown",
      "source": "3. Data Collection: We use descriptive statistics and data evaluation techniques to make sure that we have the correct information for our predictive model.   \n",
      "metadata": {}
    },
    {
      "cell_type": "markdown",
      "source": "4. Data Understanding and Preparation: Data Preparation is the most imoprtant phase in which it is checked if the data is fromatted properly. Missing and invalid values are addressed, redundancies are removed. Data collection and preparation processes if automated reduces the project time for about 50%.    \n",
      "metadata": {}
    },
    {
      "cell_type": "markdown",
      "source": "5. Modeling and Evaluation : Data Models are either descriptive or predictive. Data Models are based on analytic approach either statistically driven or machine learning driven. \n We must come up with such a Model by applying required technique to predict if the user will respond to a spam email.",
      "metadata": {}
    },
    {
      "cell_type": "code",
      "source": "",
      "metadata": {
        "trusted": true
      },
      "outputs": [],
      "execution_count": null
    }
  ]
}
