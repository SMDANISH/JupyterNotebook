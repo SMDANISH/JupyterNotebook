{
  "metadata": {
    "kernelspec": {
      "name": "python",
      "display_name": "Python (Pyodide)",
      "language": "python"
    },
    "language_info": {
      "codemirror_mode": {
        "name": "python",
        "version": 3
      },
      "file_extension": ".py",
      "mimetype": "text/x-python",
      "name": "python",
      "nbconvert_exporter": "python",
      "pygments_lexer": "ipython3",
      "version": "3.8"
    }
  },
  "nbformat_minor": 4,
  "nbformat": 4,
  "cells": [
    {
      "cell_type": "markdown",
      "source": "# Data Science Tools and Ecosystem",
      "metadata": {}
    },
    {
      "cell_type": "markdown",
      "source": "In this notebook, Data Science Tools and Ecosystem are summarized.",
      "metadata": {}
    },
    {
      "cell_type": "markdown",
      "source": "**Objectives:**",
      "metadata": {}
    },
    {
      "cell_type": "markdown",
      "source": "- R \n- Python\n- JAVA\n- C++\n- Scala",
      "metadata": {}
    },
    {
      "cell_type": "code",
      "source": "Some of the popular languages that Data Scientists use are:",
      "metadata": {
        "trusted": true
      },
      "outputs": [],
      "execution_count": null
    },
    {
      "cell_type": "markdown",
      "source": "1. R",
      "metadata": {}
    },
    {
      "cell_type": "markdown",
      "source": "2. Python",
      "metadata": {}
    },
    {
      "cell_type": "markdown",
      "source": "3. JAVA",
      "metadata": {}
    },
    {
      "cell_type": "markdown",
      "source": "4. C++",
      "metadata": {}
    },
    {
      "cell_type": "markdown",
      "source": "5. SQL",
      "metadata": {}
    },
    {
      "cell_type": "markdown",
      "source": "6. Scala",
      "metadata": {}
    },
    {
      "cell_type": "markdown",
      "source": "Some of the commonly used libraries used by Data Scientists include:",
      "metadata": {}
    },
    {
      "cell_type": "markdown",
      "source": "1. SciKit-learn",
      "metadata": {}
    },
    {
      "cell_type": "markdown",
      "source": "2. Keras",
      "metadata": {}
    },
    {
      "cell_type": "markdown",
      "source": "3. TensorFlow",
      "metadata": {}
    },
    {
      "cell_type": "markdown",
      "source": "4. PyTorch",
      "metadata": {}
    },
    {
      "cell_type": "markdown",
      "source": "5. Matplotlib",
      "metadata": {}
    },
    {
      "cell_type": "markdown",
      "source": "6. Seaborn",
      "metadata": {}
    },
    {
      "cell_type": "markdown",
      "source": "7. Pandas",
      "metadata": {}
    },
    {
      "cell_type": "markdown",
      "source": "8. NumPy",
      "metadata": {}
    },
    {
      "cell_type": "markdown",
      "source": "| Data Science Tools |\n|--------------------|\n| Jupyter Notebook   |\n| VS Code            |\n| JupyterLite        |",
      "metadata": {}
    },
    {
      "cell_type": "markdown",
      "source": "### Below are a few examples of evaluating arithmetic expressions in Python",
      "metadata": {}
    },
    {
      "cell_type": "code",
      "source": "#This a simple arithmetic expression to mutiply then add integers.\n(3*4)+5",
      "metadata": {
        "trusted": true
      },
      "outputs": [
        {
          "execution_count": 4,
          "output_type": "execute_result",
          "data": {
            "text/plain": "17"
          },
          "metadata": {}
        }
      ],
      "execution_count": 4
    },
    {
      "cell_type": "code",
      "source": "#This will convert 200 minutes to hours by diving by 60\nx = 200\nhours = x/60\nprint(hours)",
      "metadata": {
        "trusted": true
      },
      "outputs": [
        {
          "name": "stdout",
          "text": "3.3333333333333335\n",
          "output_type": "stream"
        }
      ],
      "execution_count": 5
    },
    {
      "cell_type": "markdown",
      "source": "## Author",
      "metadata": {}
    },
    {
      "cell_type": "markdown",
      "source": "Danish, Syed Modassir",
      "metadata": {}
    },
    {
      "cell_type": "code",
      "source": "",
      "metadata": {
        "trusted": true
      },
      "outputs": [],
      "execution_count": null
    }
  ]
}